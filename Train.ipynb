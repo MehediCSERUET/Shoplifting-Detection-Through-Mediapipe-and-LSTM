{
 "cells": [
  {
   "cell_type": "code",
   "execution_count": 1,
   "metadata": {},
   "outputs": [],
   "source": [
    "#import necessary libraries\n",
    "import numpy as np\n",
    "import pandas as pd\n",
    "from matplotlib import pyplot as plt\n",
    "import tensorflow as tf\n",
    "import tensorflow.keras\n",
    "from tensorflow.keras.models import Model,Sequential\n",
    "from tensorflow.keras.utils import to_categorical\n",
    "from tensorflow.keras.layers import LSTM, Dense, BatchNormalization, Dropout\n",
    "from tensorflow.keras import regularizers\n",
    "from tensorflow.keras.optimizers import SGD, Adam\n",
    "%matplotlib inline\n"
   ]
  },
  {
   "cell_type": "code",
   "execution_count": 3,
   "metadata": {},
   "outputs": [],
   "source": [
    "# Useful Constants\n",
    "\n",
    "# Output classes to learn how to classify\n",
    "LABELS = [    \n",
    "    \"NORMAL\",\n",
    "    \"SHOPLIFTING\"\n",
    "]\n",
    "DATASET_PATH = r\"H:\\Sajal Video\\Data\\\\\"\n",
    "\n",
    "x_train_path = DATASET_PATH + \"X_train.csv\"\n",
    "#x_test_path = DATASET_PATH + \"X_test.csv\"\n",
    "y_train_path = DATASET_PATH + \"y_train.csv\"\n",
    "#y_test_path = DATASET_PATH + \"y_test.csv\"\n",
    "\n",
    "\n",
    "n_steps = 32  # 32 frames per series, window size to look back"
   ]
  },
  {
   "cell_type": "code",
   "execution_count": 4,
   "metadata": {},
   "outputs": [],
   "source": [
    "#load data, n_step size block at once\n",
    "def load_X(path):\n",
    "    data=pd.read_csv(path,header=None).values\n",
    "    blocks = int(len(data) / n_steps)\n",
    "    data=np.array(np.split(data,blocks))\n",
    "    return data\n",
    "\n",
    "def load_y(path):\n",
    "    data=pd.read_csv(path,header=None).values\n",
    "    return data-1"
   ]
  },
  {
   "cell_type": "code",
   "execution_count": 5,
   "metadata": {},
   "outputs": [],
   "source": [
    "#Load the data\n",
    "X_train = load_X(x_train_path)\n",
    "#X_test = load_X(x_test_path)\n",
    "y_train = load_y(y_train_path)\n",
    "#y_test = load_y(y_test_path)"
   ]
  },
  {
   "cell_type": "code",
   "execution_count": 6,
   "metadata": {},
   "outputs": [
    {
     "name": "stdout",
     "output_type": "stream",
     "text": [
      "264\n",
      "264\n",
      "(264, 1)\n"
     ]
    }
   ],
   "source": [
    "# Input Data \n",
    "training_data_count = len(X_train)  # number of training data\n",
    "#test_data_count = len(X_test)  # number of test data\n",
    "n_input = len(X_train[0][0])\n",
    "n_hidden = 36 # Hidden layer num of features\n",
    "n_classes = 2  #number of action classes\n",
    "\n",
    "batch_size =64\n",
    "print(training_data_count)\n",
    "print(len(y_train)) \n",
    "print(y_train.shape)"
   ]
  },
  {
   "cell_type": "code",
   "execution_count": 7,
   "metadata": {},
   "outputs": [],
   "source": [
    "y_train_one_hot = to_categorical(y_train, num_classes=n_classes) #one hot encoding for softmax, if sigmoid was used, no need\n",
    "#y_test_one_hot = to_categorical(y_test, n_classes)"
   ]
  },
  {
   "cell_type": "code",
   "execution_count": 8,
   "metadata": {},
   "outputs": [],
   "source": [
    "# LSTM model\n",
    "model = Sequential([\n",
    "   # relu activation\n",
    "   Dense(n_hidden, activation='relu'\n",
    "   ),\n",
    "   BatchNormalization(), \n",
    "   LSTM(n_hidden, return_sequences=True,  unit_forget_bias=1.0,dropout=0.2),\n",
    "   LSTM(n_hidden,  unit_forget_bias=1.0),\n",
    "   BatchNormalization(), \n",
    "   Dense(n_classes,\n",
    "       activation='softmax'\n",
    "   )\n",
    "])"
   ]
  },
  {
   "cell_type": "markdown",
   "metadata": {},
   "source": [
    "**Perform the LR range test** to find the min and max range of learning rates"
   ]
  },
  {
   "cell_type": "code",
   "execution_count": 9,
   "metadata": {},
   "outputs": [],
   "source": [
    "# early stopping to prevent overfitting\n",
    "from keras.callbacks import EarlyStopping, ReduceLROnPlateau\n",
    "earlystop=EarlyStopping(patience=10)\n",
    "learning_rate_reduction=ReduceLROnPlateau(monitor='loss',patience=2,verbose=1,factor=0.5,min_lr=0.00001)\n",
    "callbacks=[earlystop,learning_rate_reduction]\n"
   ]
  },
  {
   "cell_type": "code",
   "execution_count": 10,
   "metadata": {},
   "outputs": [],
   "source": [
    "model.compile(\n",
    "   optimizer=Adam(),\n",
    "   metrics=['accuracy'],\n",
    "   loss='categorical_crossentropy'\n",
    ")"
   ]
  },
  {
   "cell_type": "code",
   "execution_count": 11,
   "metadata": {},
   "outputs": [
    {
     "name": "stdout",
     "output_type": "stream",
     "text": [
      "Epoch 1/150\n",
      "4/4 [==============================] - 5s 309ms/step - loss: 0.7471 - accuracy: 0.5829 - val_loss: 0.4213 - val_accuracy: 1.0000\n",
      "Epoch 2/150\n",
      "4/4 [==============================] - 0s 23ms/step - loss: 0.2119 - accuracy: 0.9384 - val_loss: 0.3768 - val_accuracy: 1.0000\n",
      "Epoch 3/150\n",
      "4/4 [==============================] - 0s 23ms/step - loss: 0.1248 - accuracy: 0.9763 - val_loss: 0.3264 - val_accuracy: 1.0000\n",
      "Epoch 4/150\n",
      "4/4 [==============================] - 0s 23ms/step - loss: 0.0813 - accuracy: 0.9905 - val_loss: 0.2826 - val_accuracy: 1.0000\n",
      "Epoch 5/150\n",
      "4/4 [==============================] - 0s 23ms/step - loss: 0.0490 - accuracy: 0.9905 - val_loss: 0.2492 - val_accuracy: 1.0000\n",
      "Epoch 6/150\n",
      "4/4 [==============================] - 0s 24ms/step - loss: 0.0256 - accuracy: 0.9953 - val_loss: 0.2276 - val_accuracy: 1.0000\n",
      "Epoch 7/150\n",
      "4/4 [==============================] - 0s 23ms/step - loss: 0.0284 - accuracy: 0.9953 - val_loss: 0.2162 - val_accuracy: 1.0000\n",
      "Epoch 8/150\n",
      "4/4 [==============================] - 0s 25ms/step - loss: 0.0189 - accuracy: 1.0000 - val_loss: 0.2140 - val_accuracy: 1.0000\n",
      "Epoch 9/150\n",
      "4/4 [==============================] - 0s 25ms/step - loss: 0.0124 - accuracy: 1.0000 - val_loss: 0.2155 - val_accuracy: 1.0000\n",
      "Epoch 10/150\n",
      "4/4 [==============================] - 0s 24ms/step - loss: 0.0089 - accuracy: 1.0000 - val_loss: 0.2217 - val_accuracy: 1.0000\n",
      "Epoch 11/150\n",
      "4/4 [==============================] - 0s 24ms/step - loss: 0.0095 - accuracy: 1.0000 - val_loss: 0.2140 - val_accuracy: 1.0000\n",
      "Epoch 12/150\n",
      "4/4 [==============================] - 0s 24ms/step - loss: 0.0077 - accuracy: 1.0000 - val_loss: 0.2108 - val_accuracy: 1.0000\n",
      "Epoch 13/150\n",
      "4/4 [==============================] - 0s 24ms/step - loss: 0.0075 - accuracy: 1.0000 - val_loss: 0.2085 - val_accuracy: 1.0000\n",
      "Epoch 14/150\n",
      "4/4 [==============================] - 0s 26ms/step - loss: 0.0099 - accuracy: 1.0000 - val_loss: 0.2072 - val_accuracy: 1.0000\n",
      "Epoch 15/150\n",
      "4/4 [==============================] - 0s 24ms/step - loss: 0.0071 - accuracy: 1.0000 - val_loss: 0.2151 - val_accuracy: 1.0000\n",
      "Epoch 16/150\n",
      "4/4 [==============================] - 0s 24ms/step - loss: 0.0051 - accuracy: 1.0000 - val_loss: 0.2080 - val_accuracy: 1.0000\n",
      "Epoch 17/150\n",
      "4/4 [==============================] - 0s 25ms/step - loss: 0.0071 - accuracy: 1.0000 - val_loss: 0.2002 - val_accuracy: 1.0000\n",
      "Epoch 18/150\n",
      "4/4 [==============================] - 0s 25ms/step - loss: 0.0045 - accuracy: 1.0000 - val_loss: 0.1952 - val_accuracy: 1.0000\n",
      "Epoch 19/150\n",
      "4/4 [==============================] - 0s 25ms/step - loss: 0.0073 - accuracy: 1.0000 - val_loss: 0.1973 - val_accuracy: 1.0000\n",
      "Epoch 20/150\n",
      "4/4 [==============================] - 0s 25ms/step - loss: 0.0042 - accuracy: 1.0000 - val_loss: 0.2119 - val_accuracy: 0.9811\n",
      "Epoch 21/150\n",
      "4/4 [==============================] - 0s 25ms/step - loss: 0.0061 - accuracy: 1.0000 - val_loss: 0.2390 - val_accuracy: 0.9434\n",
      "Epoch 22/150\n",
      "4/4 [==============================] - 0s 24ms/step - loss: 0.0041 - accuracy: 1.0000 - val_loss: 0.2650 - val_accuracy: 0.9245\n",
      "\n",
      "Epoch 00022: ReduceLROnPlateau reducing learning rate to 0.0005000000237487257.\n",
      "Epoch 23/150\n",
      "4/4 [==============================] - 0s 25ms/step - loss: 0.0042 - accuracy: 1.0000 - val_loss: 0.2901 - val_accuracy: 0.8868\n",
      "Epoch 24/150\n",
      "4/4 [==============================] - 0s 25ms/step - loss: 0.0043 - accuracy: 1.0000 - val_loss: 0.3215 - val_accuracy: 0.8491\n",
      "\n",
      "Epoch 00024: ReduceLROnPlateau reducing learning rate to 0.0002500000118743628.\n",
      "Epoch 25/150\n",
      "4/4 [==============================] - 0s 25ms/step - loss: 0.0034 - accuracy: 1.0000 - val_loss: 0.3460 - val_accuracy: 0.8113\n",
      "Epoch 26/150\n",
      "4/4 [==============================] - 0s 24ms/step - loss: 0.0035 - accuracy: 1.0000 - val_loss: 0.3698 - val_accuracy: 0.7925\n",
      "Epoch 27/150\n",
      "4/4 [==============================] - 0s 24ms/step - loss: 0.0039 - accuracy: 1.0000 - val_loss: 0.4013 - val_accuracy: 0.7925\n",
      "\n",
      "Epoch 00027: ReduceLROnPlateau reducing learning rate to 0.0001250000059371814.\n",
      "Epoch 28/150\n",
      "4/4 [==============================] - 0s 24ms/step - loss: 0.0034 - accuracy: 1.0000 - val_loss: 0.4307 - val_accuracy: 0.7547\n"
     ]
    }
   ],
   "source": [
    "history = model.fit(\n",
    "   X_train, \n",
    "   y_train_one_hot, \n",
    "   epochs=150,\n",
    "   batch_size=batch_size, validation_split=.2,callbacks=callbacks\n",
    ")"
   ]
  },
  {
   "cell_type": "code",
   "execution_count": 12,
   "metadata": {},
   "outputs": [
    {
     "name": "stderr",
     "output_type": "stream",
     "text": [
      "WARNING:absl:Found untraced functions such as lstm_cell_layer_call_and_return_conditional_losses, lstm_cell_layer_call_fn, lstm_cell_1_layer_call_and_return_conditional_losses, lstm_cell_1_layer_call_fn, lstm_cell_layer_call_fn while saving (showing 5 of 10). These functions will not be directly callable after loading.\n"
     ]
    },
    {
     "name": "stdout",
     "output_type": "stream",
     "text": [
      "INFO:tensorflow:Assets written to: H:\\Sajal Video\\Models\\model.tf\\assets\n"
     ]
    },
    {
     "name": "stderr",
     "output_type": "stream",
     "text": [
      "INFO:tensorflow:Assets written to: H:\\Sajal Video\\Models\\model.tf\\assets\n"
     ]
    }
   ],
   "source": [
    "model.save(r'H:\\Sajal Video\\Models\\model.tf') #save the model for future prediction use"
   ]
  },
  {
   "cell_type": "code",
   "execution_count": 13,
   "metadata": {},
   "outputs": [
    {
     "data": {
      "image/png": "[encoded data removed]",
      "text/plain": [
       "<Figure size 432x288 with 1 Axes>"
      ]
     },
     "metadata": {
      "needs_background": "light"
     },
     "output_type": "display_data"
    }
   ],
   "source": [
    "# plot accuracy curve\n",
    "plt.plot(history.history['accuracy'])\n",
    "plt.title('Accuracy plot against accuracy')\n",
    "plt.xscale('log')\n",
    "plt.xticks\n",
    "plt.ylabel('acc')\n",
    "plt.xlabel('epoch')\n",
    "plt.show()"
   ]
  },
  {
   "cell_type": "code",
   "execution_count": 14,
   "metadata": {},
   "outputs": [
    {
     "data": {
      "image/png": "[encoded data removed]",
      "text/plain": [
       "<Figure size 432x288 with 1 Axes>"
      ]
     },
     "metadata": {
      "needs_background": "light"
     },
     "output_type": "display_data"
    }
   ],
   "source": [
    "# plot loss curve\n",
    "plt.plot(history.history['loss'])\n",
    "plt.title('Learning rate plot against loss')\n",
    "plt.xscale('log')\n",
    "plt.ylabel('loss')\n",
    "plt.xlabel('epoch')\n",
    "plt.show()"
   ]
  },
  {
   "cell_type": "markdown",
   "metadata": {},
   "source": [
    "By looking at the graph, the model starts converging when lr=0.02, so it is reasonable to set base lr = 0.02. Furthermore, above a learning rate of 0.09 the accuracy rise gets rough and eventually begins to drop so it is reasonable to set max lr = 0.09"
   ]
  },
  {
   "cell_type": "code",
   "execution_count": 15,
   "metadata": {},
   "outputs": [],
   "source": [
    "#score=model.evaluate(X_test, y_test_one_hot, verbose=1)"
   ]
  },
  {
   "cell_type": "code",
   "execution_count": 16,
   "metadata": {},
   "outputs": [],
   "source": [
    "#print(score)"
   ]
  },
  {
   "cell_type": "code",
   "execution_count": null,
   "metadata": {},
   "outputs": [],
   "source": []
  }
 ],
 "metadata": {
  "kernelspec": {
   "display_name": "Python 3",
   "language": "python",
   "name": "python3"
  },
  "language_info": {
   "codemirror_mode": {
    "name": "ipython",
    "version": 3
   },
   "file_extension": ".py",
   "mimetype": "text/x-python",
   "name": "python",
   "nbconvert_exporter": "python",
   "pygments_lexer": "ipython3",
   "version": "3.8.5"
  }
 },
 "nbformat": 4,
 "nbformat_minor": 2
}
